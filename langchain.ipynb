{
 "cells": [
  {
   "cell_type": "markdown",
   "id": "84f4459b",
   "metadata": {},
   "source": [
    "![LangChain](img/langchain.jpeg)"
   ]
  },
  {
   "cell_type": "markdown",
   "id": "2511a0f0",
   "metadata": {},
   "source": [
    "**LangChain** permet d’enchaîner facilement différents composants de traitement dans un **pipeline unifié**. Ces composants — qu’il s’agisse d’un **prompt**, d’un **modèle de langage** ou d’un **outil externe** — sont tous traités comme des `Runnable`, c’est-à-dire des **blocs interopérables pouvant être connectés les uns aux autres**.\n",
    "\n",
    "Grâce à cette architecture, il devient simple de construire des chaînes logiques de traitement par exemple :  \n",
    "\n",
    "> **générer un prompt** → **l’envoyer à un LLM** → **interpréter la réponse** → **puis appeler une API ou une fonction locale**\n",
    "\n",
    "C'est avec le ***LangChain Expression Language*** (LCEL) que nous pouvons chaîner les composants via l’opérateur `|` (le pipe) et d’exécuter le tout de manière uniforme avec `.invoke()`.\n",
    "\n",
    "Grâce aux `chains`, nous pouvons résumer **Langchain** à ceci :  \n",
    "\n",
    "> Boîte à outils pour créer des pipelines modulaires, réutilisables et traçables autour des modèles de langage."
   ]
  },
  {
   "cell_type": "markdown",
   "id": "bfaee202",
   "metadata": {},
   "source": [
    "![Chains](img/chains.png)"
   ]
  },
  {
   "cell_type": "markdown",
   "id": "4e7eb01a",
   "metadata": {},
   "source": [
    "# 1. Chargement du modèle LLM local\n",
    "___"
   ]
  },
  {
   "cell_type": "markdown",
   "id": "5cafb689",
   "metadata": {},
   "source": [
    "Dans cette section, nous chargeons un modèle de langage local grâce à **Ollama**. Cela permet de travailler avec un **LLM directement sur notre machine**, sans connexion à une API externe.\n",
    "\n",
    "Nous utilisons ici la classe `ChatOllama` de **LangChain**, qui nous permet d’interagir facilement avec un modèle comme llama3 déjà téléchargé via Ollama."
   ]
  },
  {
   "cell_type": "code",
   "execution_count": null,
   "id": "7301c899",
   "metadata": {},
   "outputs": [],
   "source": [
    "import os\n",
    "from IPython.display import display, Markdown\n",
    "from dotenv import load_dotenv\n",
    "from langchain_ollama import ChatOllama\n",
    "from langchain_deepseek import ChatDeepSeek\n",
    "from langchain_core.output_parsers import StrOutputParser\n",
    "from langchain_core.runnables import RunnableLambda\n",
    "from langchain.prompts import ChatPromptTemplate\n",
    "from langchain_core.runnables import RunnableParallel, RunnableBranch\n",
    "\n",
    "\n",
    "# Chargement des clés d'API se trouvant dans le fichier .env.  \n",
    "# Ceci permet d'utiliser des modèles en ligne comme gpt-x, deepseek-x, etc...\n",
    "load_dotenv(override=True)\n",
    "\n",
    "model = ChatOllama(model=\"llama3\")\n",
    "#model = ChatDeepSeek(model=\"deepseek-chat\", api_key=os.getenv(\"DEEPSEEK_API_KEY\"))"
   ]
  },
  {
   "cell_type": "markdown",
   "id": "a48a0cd4",
   "metadata": {},
   "source": [
    "# 2. Chaîne basique\n",
    "___"
   ]
  },
  {
   "cell_type": "markdown",
   "id": "1bdc2daf",
   "metadata": {},
   "source": [
    "Une chaîne de traitement simple peut être construite en combinant un prompt structuré avec un modèle de langage à l’aide du système de chaînage de LangChain.  \n",
    "Ce type de chaîne permet de créer un dialogue en définissant plusieurs rôles (comme system et human) et en injectant dynamiquement des valeurs dans le prompt."
   ]
  },
  {
   "cell_type": "code",
   "execution_count": null,
   "id": "da43aef4",
   "metadata": {},
   "outputs": [],
   "source": [
    "# On définit une liste de messages structurés pour guider le comportement du modèle.\n",
    "# ⚠️ Ici, on utilise des TUPLES (rôle, message avec variables), c’est nécessaire pour que l’interpolation des variables fonctionne avec from_messages().\n",
    "# ⚠️ L'interpolation avec des objets comme `HumanMessage(content=\"...\")` ou `SystemMessage(content=\"...\")` ne fonctionne PAS directement avec from_messages().\n",
    "# Ces objets sont conçus pour des messages déjà complets, pas des templates avec des variables.\n",
    "prompt_template = ChatPromptTemplate.from_messages([\n",
    "    (\"system\", \"Tu es un expert en mathématiques et un pédagogue dans ce domaine.\"),\n",
    "    (\"human\", \"Calcule le double de {value_1}, puis celui de {value_2}\")\n",
    "])\n",
    "\n",
    "# Équivalent d'un template à rôle unique\n",
    "# template = \"Tu es un expert en mathématiques et un pédagogue dans ce domaine. Calcule le double de {value_1}, puis celui de {value_2}.\"\n",
    "# prompt_template = ChatPromptTemplate.from_template(template)\n",
    "\n",
    "# On relie le prompt au modèle à l’aide de l’opérateur |\n",
    "chain = prompt_template | model\n",
    "\n",
    "# On fournit des valeurs aux variables définies dans le prompt\n",
    "result = chain.invoke({\"value_1\": 4, \"value_2\": 2})\n",
    "\n",
    "display(Markdown(result.content))"
   ]
  },
  {
   "cell_type": "markdown",
   "id": "b70e062a",
   "metadata": {},
   "source": [
    "### 🧩 Exercices"
   ]
  },
  {
   "cell_type": "markdown",
   "id": "543a840f",
   "metadata": {},
   "source": [
    "> Exercice 1\n",
    "\n",
    "Créez un prompt qui demande à un modèle de définir un mot donné, dans un style pédagogique.\n",
    "\n",
    "1.\tUtilisez ChatPromptTemplate.from_messages() pour définir un prompt structuré avec :\n",
    "- un message system : l’IA est un professeur d'un domaine particulier qui explique simplement.\n",
    "- un message human : l’utilisateur demande la définition d’un mot particulier.\n",
    "2.\tRelie ce prompt à un modèle avec l’opérateur |.\n",
    "3.\tUtilise .invoke() pour tester le prompt avec plusieurs disciplines et thèmes différents."
   ]
  },
  {
   "cell_type": "markdown",
   "id": "55d3e0b3",
   "metadata": {},
   "source": [
    "# 3. Chaîne étendue (séquence de runnables)\n",
    "___"
   ]
  },
  {
   "cell_type": "markdown",
   "id": "fdab574c",
   "metadata": {},
   "source": [
    "L’un des atouts majeurs de LangChain réside dans son système de **chaînes composables**, où chaque composant du pipeline est un `Runnable`. Grâce à l’opérateur `|`, on peut enchaîner autant d'étapes de traitement que voulu."
   ]
  },
  {
   "cell_type": "markdown",
   "id": "6049d905",
   "metadata": {},
   "source": [
    "### 3.1 Runnable built-in"
   ]
  },
  {
   "cell_type": "code",
   "execution_count": null,
   "id": "81c81a83",
   "metadata": {},
   "outputs": [],
   "source": [
    "prompt_template = ChatPromptTemplate.from_messages([\n",
    "    (\"system\", \"Tu es un expert en mathématiques et un pédagogue dans ce domaine.\"),\n",
    "    (\"human\", \"Calcule le double de {value_1}, puis celui de {value_2}\")\n",
    "])\n",
    "\n",
    "# Ce parseur prend la sortie brute du modèle (souvent du texte) et la convertit en chaîne de caractères simple pour faciliter la suite.\n",
    "parser = StrOutputParser()\n",
    "\n",
    "# Enchaînement de runnables\n",
    "chain = prompt_template | model | parser\n",
    "\n",
    "result = chain.invoke({\"value_1\": 4, \"value_2\": 2})\n",
    "\n",
    "# Affichage du résultat retourné par le modèle après parsing. Plus besoin du `.content`\n",
    "display(Markdown(result))"
   ]
  },
  {
   "cell_type": "markdown",
   "id": "0f877d27",
   "metadata": {},
   "source": [
    "### 3.2 Runnable custom"
   ]
  },
  {
   "cell_type": "markdown",
   "id": "03672db2",
   "metadata": {},
   "source": [
    "Langchain offre non seulement d’utiliser des composants prédéfinis (LLMs, parsers, prompts…) comme évoqué précédemment, mais aussi de définir facilement ses propres blocs de traitement.\n",
    "\n",
    "Grâce à la classe `RunnableLambda`, on peut transformer n’importe quelle fonction Python en un maillon de la chaîne. Cela ouvre la porte à un nombre infini de transformations : nettoyage de texte, post-traitement, extraction de données, formatage, journalisation, etc."
   ]
  },
  {
   "cell_type": "code",
   "execution_count": null,
   "id": "8e85ab31",
   "metadata": {},
   "outputs": [],
   "source": [
    "prompt_template = ChatPromptTemplate.from_messages([\n",
    "    (\"system\", \"Tu es un expert en mathématiques et un pédagogue dans ce domaine.\"),\n",
    "    (\"human\", \"Calcule le double de {value_1}, puis celui de {value_2}\")\n",
    "])\n",
    "\n",
    "parser = StrOutputParser()\n",
    "uppercase = RunnableLambda(lambda x: x.upper()) # Runnable custom pour transformer la sortie en majuscules\n",
    "\n",
    "# Enchaînement de runnables\n",
    "chain = prompt_template | model | parser | uppercase\n",
    "\n",
    "result = chain.invoke({\"value_1\": 4, \"value_2\": 2})\n",
    "\n",
    "display(Markdown(result))"
   ]
  },
  {
   "cell_type": "markdown",
   "id": "e333bf7b",
   "metadata": {},
   "source": [
    "### 🧩 Exercices"
   ]
  },
  {
   "cell_type": "markdown",
   "id": "57787ca8",
   "metadata": {},
   "source": [
    "> Exercice 1\n",
    "\n",
    "Créez un pipeline qui répond à des questions clients ou formule des messages marketing. Il faut que ces réponses soient :\n",
    "- stylisées,\n",
    "- enrichies,\n",
    "- adaptées à différents formats de publication."
   ]
  },
  {
   "cell_type": "markdown",
   "id": "2f21b621",
   "metadata": {},
   "source": [
    "# 4. Chaînes parallèles\n",
    "___"
   ]
  },
  {
   "cell_type": "markdown",
   "id": "497574e0",
   "metadata": {},
   "source": [
    "### 4.1 Chaînes parallèles avec post-traitement externe"
   ]
  },
  {
   "cell_type": "markdown",
   "id": "7ce763ed",
   "metadata": {},
   "source": [
    "Dans LangChain, il est possible d’exécuter plusieurs **chaînes de traitement en parallèle** à l’aide du composant `RunnableParallel`. Cela permet, par exemple, d’effectuer plusieurs opérations indépendantes"
   ]
  },
  {
   "cell_type": "code",
   "execution_count": null,
   "id": "e798a6fd",
   "metadata": {},
   "outputs": [],
   "source": [
    "system_role = (\"system\", \"Tu es un expert en mathématiques.\")\n",
    "\n",
    "# Prompt pour additionner\n",
    "prompt_add = ChatPromptTemplate.from_messages([\n",
    "    system_role,\n",
    "    (\"human\", \"Additionne {value_1} à {value_2}.\")\n",
    "])\n",
    "\n",
    "# Prompt pour soustraire\n",
    "prompt_substract = ChatPromptTemplate.from_messages([\n",
    "    system_role,\n",
    "    (\"human\", \"Soustrais {value_1} de {value_2}.\")\n",
    "])\n",
    "\n",
    "# Chaînes séparées\n",
    "chain_add = prompt_add | model | StrOutputParser()\n",
    "chain_substract = prompt_substract | model | StrOutputParser()\n",
    "\n",
    "# Traitement parallèle à exécuter\n",
    "parallel_chain = RunnableParallel({\n",
    "    \"add\": chain_add,\n",
    "    \"substract\": chain_substract\n",
    "})\n",
    "\n",
    "# Même jeu de données utilisé pour les deux chaînes\n",
    "inputs = {\"value_1\": 10, \"value_2\": 4}\n",
    "\n",
    "# Exécution des traitements en parallèle\n",
    "result = parallel_chain.invoke(inputs)\n",
    "\n",
    "# Affichage\n",
    "print(\"Résultat de l'addition :\\n\")\n",
    "display(Markdown(result[\"add\"]))\n",
    "print(\"\\nRésultat de la soustraction :\\n\")\n",
    "display(Markdown(result[\"substract\"]))"
   ]
  },
  {
   "cell_type": "markdown",
   "id": "d8abc614",
   "metadata": {},
   "source": [
    "### 4.1 Chaînes parallèles avec post-traitement intégré dans la chaîne"
   ]
  },
  {
   "cell_type": "markdown",
   "id": "eb1247d0",
   "metadata": {},
   "source": [
    "Pour éviter de manipuler manuellement les résultats (comme result[\"add\"] ou result[\"substract\"]), il est possible d’ajouter un bloc de post-traitement directement à la fin de la chaîne parallèle grâce à RunnableLambda.\n",
    "\n",
    "Cette approche permet de :\n",
    "- structurer la sortie de manière centralisée,\n",
    "- intégrer la logique métier ou d’affichage directement dans le pipeline.\n",
    "\n",
    "C’est une bonne pratique lorsqu’on souhaite rendre une chaîne modulaire, maintenable et réutilisable dans un système plus large (ex. : API, application, chatbot…)."
   ]
  },
  {
   "cell_type": "code",
   "execution_count": null,
   "id": "727f677b",
   "metadata": {},
   "outputs": [],
   "source": [
    "system_role = (\"system\", \"Tu es un expert en mathématiques.\")\n",
    "\n",
    "# Prompts\n",
    "prompt_add = ChatPromptTemplate.from_messages([\n",
    "    system_role,\n",
    "    (\"human\", \"Additionne {value_1} à {value_2}.\")\n",
    "])\n",
    "\n",
    "prompt_substract = ChatPromptTemplate.from_messages([\n",
    "    system_role,\n",
    "    (\"human\", \"Soustrais {value_1} de {value_2}.\")\n",
    "])\n",
    "\n",
    "# Chaînes\n",
    "chain_add = prompt_add | model | StrOutputParser()\n",
    "chain_substract = prompt_substract | model | StrOutputParser()\n",
    "\n",
    "# Traitement parallèle\n",
    "parallel_chain = RunnableParallel({\n",
    "    \"addition\": chain_add,\n",
    "    \"soustraction\": chain_substract\n",
    "})\n",
    "\n",
    "# Post-traitement avec RunnableLambda\n",
    "postprocess = RunnableLambda(lambda result: \n",
    "f\"\"\"Résultats du traitement parallèle :\n",
    "- Addition : {result[\"addition\"].strip()}\n",
    "- Soustraction : {result[\"soustraction\"].strip()}\n",
    "\"\"\"\n",
    ")\n",
    "\n",
    "# Chaîne finale\n",
    "full_chain = parallel_chain | postprocess\n",
    "\n",
    "# Entrée\n",
    "inputs = {\"value_1\": 10, \"value_2\": 4}\n",
    "\n",
    "# Résultat\n",
    "result = full_chain.invoke(inputs)\n",
    "\n",
    "display(Markdown(result))"
   ]
  },
  {
   "cell_type": "markdown",
   "id": "44ada11a",
   "metadata": {},
   "source": [
    "### 🧩 Exercices"
   ]
  },
  {
   "cell_type": "markdown",
   "id": "7f1e5ddf",
   "metadata": {},
   "source": [
    "> Exercice 1\n",
    "\n",
    "Construire une mini-analyseur de texte. À partir d’un même paragraphe, nous voulons :\n",
    "- Résumer le texte\n",
    "- Extraire les mots-clés\n",
    "- Détecter la langue\n",
    "- Analyser le sentiment\n",
    "\n",
    "Vous pouvez suivre ce schéma :\n",
    "1. Créer les prompts\n",
    "2. Créer les chaînes\n",
    "3. Assembler les chaînes\n",
    "4. Préparer les inputs\n",
    "5. Lancer le traitement et afficher les résultats"
   ]
  },
  {
   "cell_type": "code",
   "execution_count": null,
   "id": "cd7db21d",
   "metadata": {},
   "outputs": [],
   "source": [
    "# Votre code ici"
   ]
  },
  {
   "cell_type": "markdown",
   "id": "c2ca6e28",
   "metadata": {},
   "source": [
    "# 5. Branches conditionnelles\n",
    "___"
   ]
  },
  {
   "cell_type": "markdown",
   "id": "d670faf9",
   "metadata": {},
   "source": [
    "Il est possible de définir des chemins conditionnels dans un pipeline, on parle alors de branche conditionnelle.\n",
    "\n",
    "Grâce à `RunnableBranch`, il est possible de router dynamiquement la sortie d’un composant (comme un LLM) vers différents traitements en fonction de son contenu ou de n’importe quelle règle métier.\n",
    "\n",
    "Dans l'exemple qui suit :\n",
    "\n",
    "1. On demande au LLM de calculer le double d’une valeur et de retourner uniquement un résultat numérique brut.\n",
    "2. On analyse ce résultat :\n",
    "- Si le résultat est supérieur ou égal à 100, on le met en majuscules et on affiche un message adapté.\n",
    "- Sinon, on l’affiche en minuscules avec un message différent.\n",
    "3. Tout cela est encapsulé dans une chaîne principale.\n",
    "\n",
    "Ce mécanisme est extrêmement utile pour adapter dynamiquement le comportement d’une IA à différents contextes : affichage, règles métier, logique métier avancée ou traitements spécialisés."
   ]
  },
  {
   "cell_type": "code",
   "execution_count": null,
   "id": "99fa780c",
   "metadata": {},
   "outputs": [],
   "source": [
    "prompt_template = ChatPromptTemplate.from_messages([\n",
    "    (\"system\", \"Tu es un expert en mathématiques et un pédagogue dans ce domaine.\"),\n",
    "    (\"human\", \"Calcule le double de {value}. Retourne uniquement le résulat sous forme de nombre, sans explications ou autres types de texte.\")\n",
    "])\n",
    "\n",
    "parser = StrOutputParser()\n",
    "\n",
    "base_chain = prompt_template | model | parser\n",
    "\n",
    "# Runnables de traitement et de formatage\n",
    "uppercase = RunnableLambda(lambda x: f\"Le résultat est {x} (>= 100), transformation en majuscules.\".upper())\n",
    "lowercase = RunnableLambda(lambda x: f\"Le résultat est {x} (< 100), tout en minuscules.\".lower())\n",
    "\n",
    "# Branche selon le contenu généré\n",
    "branch = RunnableBranch(\n",
    "    (lambda x: int(x) >= 100, uppercase),\n",
    "    lowercase\n",
    ")\n",
    "\n",
    "# Chaîne complète : on applique d’abord le LLM, puis on branche\n",
    "chain = base_chain | branch\n",
    "\n",
    "result = chain.invoke({\"value\": 1})\n",
    "display(Markdown(result))"
   ]
  },
  {
   "cell_type": "markdown",
   "id": "7ef1cf1d",
   "metadata": {},
   "source": [
    "### 🧩 Exercices"
   ]
  },
  {
   "cell_type": "markdown",
   "id": "36febf86",
   "metadata": {},
   "source": [
    "> Exercice 1\n",
    "\n",
    "Sur une fiche produit e-commerce, les clients laissent des commentaires variés. L’objectif est de construire une chaîne intelligente capable de répondre à chacun de ces commentaires de manière empathique et appropriée, sans intervention humaine.\n",
    "\n",
    "Construire une chaîne LangChain **entièrement automatisée**, dans laquelle un modèle de langage (LLM) :\n",
    "\n",
    "1.\tAnalyse un commentaire client brut,\n",
    "2.\tDétecte la tonalité du message (positive, negative, neutral),\n",
    "3.\tEt génère une réponse adaptée, en sélectionnant dynamiquement le bon ton de réponse via un branchement conditionnel (RunnableBranch).\n",
    "\n",
    "**Exemple :**\n",
    "\n",
    "\"J’ai bien reçu le produit, mais l’emballage était abîmé.\"\n",
    "\n",
    "➡️ Le LLM doit détecter un sentiment négatif, puis router vers une réponse du type :\n",
    "\n",
    "\"Nous sommes désolés d’apprendre cela. Pourriez-vous nous donner plus de détails ou contacter notre support afin que nous puissions résoudre le problème ?\"\n",
    "\n",
    "\n",
    "\n",
    "💡 **Pour vous aider, vous pouvez suivre ces étapes :**\n",
    "\n",
    "1.  Création d’une première chaîne : un prompt demande au LLM d’analyser un commentaire client et de retourner uniquement le sentiment (positive, negative, neutral).\n",
    "2. Création de trois fonctions (ou RunnableLambda) :\n",
    "- Pour répondre positivement : remercier et encourager.\n",
    "- Pour répondre à un avis négatif : exprimer des regrets, demander plus de détails ou proposer de contacter le support.\n",
    "- Pour un avis neutre : offrir son aide et demander si le client souhaite en savoir plus.\n",
    "3. Utilisation de RunnableBranch pour appliquer le bon traitement selon le sentiment détecté.\n",
    "4. Regrouper le tout dans une chaîne complète :\n",
    "- Entrée : un commentaire client (texte brut)\n",
    "- Sortie : une réponse adaptée au ton détecté."
   ]
  },
  {
   "cell_type": "code",
   "execution_count": null,
   "id": "11c88080",
   "metadata": {},
   "outputs": [],
   "source": [
    "# Votre code ici"
   ]
  }
 ],
 "metadata": {
  "kernelspec": {
   "display_name": ".venv",
   "language": "python",
   "name": "python3"
  },
  "language_info": {
   "codemirror_mode": {
    "name": "ipython",
    "version": 3
   },
   "file_extension": ".py",
   "mimetype": "text/x-python",
   "name": "python",
   "nbconvert_exporter": "python",
   "pygments_lexer": "ipython3",
   "version": "3.10.17"
  }
 },
 "nbformat": 4,
 "nbformat_minor": 5
}
